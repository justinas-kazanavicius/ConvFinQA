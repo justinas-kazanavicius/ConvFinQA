{
 "cells": [
  {
   "cell_type": "code",
   "execution_count": 1,
   "metadata": {},
   "outputs": [
    {
     "name": "stdout",
     "output_type": "stream",
     "text": [
      "fatal: destination path 'ConvFinQA' already exists and is not an empty directory.\n"
     ]
    }
   ],
   "source": [
    "!sh get_data.sh"
   ]
  },
  {
   "cell_type": "code",
   "execution_count": 2,
   "metadata": {},
   "outputs": [
    {
     "name": "stdout",
     "output_type": "stream",
     "text": [
      "Archive:  ConvFinQA/data.zip\n",
      "replace ConvFinQA/data/test_private.json? [y]es, [n]o, [A]ll, [N]one, [r]ename: ^C\n"
     ]
    }
   ],
   "source": [
    "!unzip ConvFinQA/data.zip -d ConvFinQA/"
   ]
  },
  {
   "cell_type": "code",
   "execution_count": 4,
   "metadata": {},
   "outputs": [],
   "source": [
    "import json\n",
    "from retrieve import vector_store\n",
    "from utils import format_document\n",
    "def parse_convfinqa_dataset(filepath, limit: int = None):\n",
    "    with open(filepath, 'r') as f:\n",
    "        data = json.load(f)\n",
    "    docs = []\n",
    "    \n",
    "    if limit:\n",
    "        data = data[:limit]\n",
    "\n",
    "    for entry in data:\n",
    "        doc = format_document(entry)\n",
    "        docs.append(doc)\n",
    "    \n",
    "    return docs"
   ]
  },
  {
   "cell_type": "code",
   "execution_count": 7,
   "metadata": {},
   "outputs": [],
   "source": [
    "from retrieve import COLLECTION_NAME, chromadb_client, sentence_transformer_ef\n",
    "\n",
    "try:\n",
    "    chromadb_client.delete_collection(name=COLLECTION_NAME)\n",
    "    chromadb_client.clear_system_cache()\n",
    "except ValueError:\n",
    "    pass\n",
    "\n",
    "db = chromadb_client.create_collection(name=COLLECTION_NAME, embedding_function=sentence_transformer_ef)\n",
    "\n",
    "\n",
    "DATA_PATH = 'ConvFinQA/data/train.json'\n",
    "docs = parse_convfinqa_dataset(DATA_PATH, limit=1000)\n",
    "ids = [doc.id for doc in docs]\n",
    "texts = [doc.page_content for doc in docs]\n",
    "metadatas = [doc.metadata for doc in docs]\n",
    "\n",
    "db.add(ids=ids, documents=texts, metadatas=metadatas)"
   ]
  }
 ],
 "metadata": {
  "kernelspec": {
   "display_name": "tomoroai-engineer-assignment-I67eNnCV-py3.12",
   "language": "python",
   "name": "python3"
  },
  "language_info": {
   "codemirror_mode": {
    "name": "ipython",
    "version": 3
   },
   "file_extension": ".py",
   "mimetype": "text/x-python",
   "name": "python",
   "nbconvert_exporter": "python",
   "pygments_lexer": "ipython3",
   "version": "3.12.2"
  }
 },
 "nbformat": 4,
 "nbformat_minor": 2
}
