{
 "cells": [
  {
   "cell_type": "code",
   "execution_count": null,
   "metadata": {},
   "outputs": [],
   "source": [
    "import json\n",
    "from langchain_core.documents import Document\n",
    "from tqdm.auto import tqdm\n",
    "from langfuse_config import langfuse\n",
    "\n",
    "def create_convfinqa_langfuse_dataset(filepath, name, description, limit: int = None) -> list[Document]:\n",
    "    langfuse.create_dataset(name=name, description=description)\n",
    "    with open(filepath, 'r') as f:\n",
    "        data = json.load(f)\n",
    "    docs = []\n",
    "    \n",
    "    QA_FIELDS = [\"qa\", *[f\"qa_{i}\" for i in range(10)]]\n",
    "    SKIPPED_METADATA_FIELDS = ['annotation', *QA_FIELDS]\n",
    "    if limit:\n",
    "        data = data[:limit]\n",
    "\n",
    "    for entry in tqdm(data):\n",
    "        # Combine pre_text, post_text, and table content into a single text block\n",
    "\n",
    "        # Loop through every available QA field in the entry\n",
    "        for qa_field in set(QA_FIELDS).intersection(entry.keys()):\n",
    "            # Upload to Langfuse\n",
    "            langfuse.create_dataset_item(\n",
    "                dataset_name=name,\n",
    "                # any python object or value\n",
    "                input=entry[qa_field][\"question\"],\n",
    "                # any python object or value, optional\n",
    "                expected_output=entry[qa_field][\"answer\"],\n",
    "                metadata={\n",
    "                    \"document\": {field: entry[field] for field in entry.keys() if field not in SKIPPED_METADATA_FIELDS},\n",
    "                }\n",
    "            )\n",
    "  \n",
    "        # # Process the table to include in the text block\n",
    "        table_text = []\n",
    "        for row in entry['table']:\n",
    "            # Join each cell in the row with a tab for clarity\n",
    "            table_text.append(\"\\t\".join(row))\n",
    "    \n",
    "    return docs\n"
   ]
  },
  {
   "cell_type": "code",
   "execution_count": 3,
   "metadata": {},
   "outputs": [
    {
     "data": {
      "application/vnd.jupyter.widget-view+json": {
       "model_id": "4eb330ad26004dc1b053a3bca0f075cc",
       "version_major": 2,
       "version_minor": 0
      },
      "text/plain": [
       "  0%|          | 0/1000 [00:00<?, ?it/s]"
      ]
     },
     "metadata": {},
     "output_type": "display_data"
    }
   ],
   "source": [
    "DATA_PATH = 'ConvFinQA/data/train.json'\n",
    "docs = create_convfinqa_langfuse_dataset(DATA_PATH, \"convfinqa-train\", \"Dataset created from ConvFinQA train data\", limit=1000)\n",
    "print(docs)"
   ]
  }
 ],
 "metadata": {
  "kernelspec": {
   "display_name": ".venv",
   "language": "python",
   "name": "python3"
  },
  "language_info": {
   "codemirror_mode": {
    "name": "ipython",
    "version": 3
   },
   "file_extension": ".py",
   "mimetype": "text/x-python",
   "name": "python",
   "nbconvert_exporter": "python",
   "pygments_lexer": "ipython3",
   "version": "3.12.2"
  }
 },
 "nbformat": 4,
 "nbformat_minor": 2
}
